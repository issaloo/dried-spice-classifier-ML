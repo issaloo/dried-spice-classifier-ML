{
 "cells": [
  {
   "cell_type": "code",
   "execution_count": 18,
   "metadata": {
    "gradient": {
     "editing": false
    }
   },
   "outputs": [],
   "source": [
    "import matplotlib.pyplot as plt\n",
    "import numpy as np\n",
    "import pandas as pd\n",
    "import pickle\n",
    "import seaborn as sns\n",
    "import tensorflow as tf\n",
    "\n",
    "from keras.models import Model\n",
    "from PIL import Image\n",
    "from sklearn.svm import SVC\n",
    "from sklearn.ensemble import RandomForestClassifier\n",
    "from sklearn.metrics import classification_report\n",
    "from sklearn.metrics import cohen_kappa_score\n",
    "from sklearn.metrics import confusion_matrix\n",
    "from sklearn.metrics import f1_score\n",
    "from sklearn.metrics import matthews_corrcoef\n",
    "from sklearn.model_selection import GridSearchCV\n",
    "from tensorflow.keras import layers\n",
    "from tensorflow.keras import losses\n",
    "from tensorflow.keras import models\n",
    "from tensorflow.keras import optimizers\n",
    "from tensorflow.keras.preprocessing.image import ImageDataGenerator"
   ]
  },
  {
   "cell_type": "markdown",
   "metadata": {
    "gradient": {
     "editing": false
    }
   },
   "source": [
    "# 1. Initialize functions and generator for training and evaluation"
   ]
  },
  {
   "cell_type": "code",
   "execution_count": 19,
   "metadata": {
    "gradient": {
     "editing": false
    }
   },
   "outputs": [],
   "source": [
    "def myGenerator(gen1, gen2):\n",
    "    \"\"\"Combine generators of imbalanced datasets into one.\n",
    "    \n",
    "    Args:\n",
    "        gen1 (generator): First generator of image data split\n",
    "            by classes\n",
    "        gen2 (generator): Second generator of image data split\n",
    "            by classes\n",
    "        \n",
    "    Returns:\n",
    "        gen3 (generator): Generator that combines 2 generators\n",
    "    \"\"\"\n",
    "    while True:\n",
    "        img_data1,label1 = next(gen1)\n",
    "        img_data2,label2 = next(gen2)\n",
    "        if ((label1.shape[0] + label2.shape[0]) % 32) != 0:\n",
    "            img_data1, label1 = next(gen1)\n",
    "            img_data2, label2 = next(gen2)\n",
    "        img_data_c = np.concatenate((img_data1, img_data2))\n",
    "\n",
    "        label_size = label1.shape[1] + label2.shape[1]\n",
    "        new_labels1 = np.zeros((label1.shape[0], label_size))\n",
    "        new_labels1[:, :-label2.shape[1]] = label1\n",
    "        new_labels2 = np.zeros((label2.shape[0], label_size))\n",
    "        new_labels2[:, label1.shape[1]:] = label2\n",
    "\n",
    "        labels_c = np.concatenate((new_labels1, new_labels2), axis=0)\n",
    "\n",
    "        shuffler = np.random.permutation(labels_c.shape[0])\n",
    "        labels_c_shuffled = labels_c[shuffler]\n",
    "        img_data_c_shuffled = img_data_c[shuffler]\n",
    "\n",
    "        yield img_data_c_shuffled, labels_c_shuffled\n",
    "\n",
    "def plot_accuracy(history_obj, title):\n",
    "    \"\"\"Plots trained ML model accuracy scores.\n",
    "    \n",
    "    Args:\n",
    "        history_df (obj): Output object from trained ML model \n",
    "        title (str): The desired title of the plot\n",
    "        \n",
    "    Returns:\n",
    "        None\n",
    "    \"\"\"\n",
    "    data_acc_df = pd.DataFrame({\n",
    "        'epoch':[*range(1, len(\n",
    "            history_obj.history['categorical_accuracy']) + 1)],\n",
    "        'accuracy':history_obj.history['categorical_accuracy']}) \n",
    "    data_acc_df['Data'] = 'training'\n",
    "    data_vacc_df = pd.DataFrame({\n",
    "        'epoch':[*range(1, len(\n",
    "            history_obj.history['val_categorical_accuracy']) + 1)],\n",
    "        'accuracy':history_obj.history['val_categorical_accuracy']})\n",
    "    data_vacc_df['Data'] = 'validation'\n",
    "    data_m_df = pd.concat((data_acc_df, data_vacc_df), axis=0)\n",
    "\n",
    "    plt.figure(figsize=(12, 5))\n",
    "    sns.lineplot(data=data_m_df, x='epoch', y='accuracy', hue='Data')\n",
    "    plt.xlabel('Epoch', fontsize=16)\n",
    "    plt.ylabel('Accuracy', fontsize=16)\n",
    "    plt.title(title, fontsize=18)\n",
    "    plt.xticks(fontsize=14)\n",
    "    plt.yticks(fontsize=14)\n",
    "    plt.ylim((0.1, 0.9))\n",
    "    plt.show()\n",
    "    \n",
    "# Set up plot styling\n",
    "plt.style.use('fivethirtyeight')\n",
    "plt.style.use('seaborn-notebook')"
   ]
  },
  {
   "cell_type": "code",
   "execution_count": 20,
   "metadata": {
    "gradient": {
     "editing": false
    }
   },
   "outputs": [
    {
     "name": "stdout",
     "output_type": "stream",
     "text": [
      "Found 280 images belonging to 4 classes.\n",
      "Found 440 images belonging to 1 classes.\n",
      "Found 75 images belonging to 5 classes.\n",
      "Found 75 images belonging to 5 classes.\n"
     ]
    }
   ],
   "source": [
    "# Initialize training generator\n",
    "train_datagen= ImageDataGenerator(\n",
    "        rotation_range=90,\n",
    "        horizontal_flip=True,\n",
    "        vertical_flip=True,\n",
    "        rescale=1./255,\n",
    "        fill_mode='nearest',\n",
    "        width_shift_range=0.2,\n",
    "        height_shift_range=0.2,\n",
    "        shear_range=30,\n",
    "        zoom_range=0.1,\n",
    "        brightness_range=[0.7, 1.0])\n",
    "train_generator_1 = train_datagen.flow_from_directory(\n",
    "        'model_dataset/train/augment',\n",
    "        target_size=(200, 200),\n",
    "        batch_size=26,\n",
    "        class_mode='categorical',\n",
    "        shuffle=True,\n",
    "        seed=15)\n",
    "train_generator_2 = train_datagen.flow_from_directory(\n",
    "        'model_dataset/train/no_augment',\n",
    "        target_size=(200, 200),\n",
    "        batch_size=6,\n",
    "        class_mode='categorical',\n",
    "        shuffle=True,\n",
    "        seed=15)\n",
    "train_generator = myGenerator(train_generator_1, train_generator_2)\n",
    "\n",
    "# Initialize validation generator\n",
    "valid_datagen = ImageDataGenerator(rescale=1./255)\n",
    "valid_generator = valid_datagen.flow_from_directory(\n",
    "        'model_dataset/validation',\n",
    "        target_size=(200, 200),\n",
    "        batch_size=32,\n",
    "        shuffle = True,\n",
    "        class_mode='categorical')\n",
    "\n",
    "# Initialize test generator\n",
    "test_datagen = ImageDataGenerator(rescale=1./255)\n",
    "test_generator = test_datagen.flow_from_directory(\n",
    "    directory='model_dataset/test',\n",
    "    target_size=(200, 200),\n",
    "    batch_size=1,\n",
    "    class_mode='categorical',\n",
    "    shuffle=False,\n",
    "    seed=42)"
   ]
  },
  {
   "cell_type": "markdown",
   "metadata": {
    "gradient": {
     "editing": false
    }
   },
   "source": [
    "# 2. Train the optimized CNN, SVM and Random Forest models"
   ]
  },
  {
   "cell_type": "code",
   "execution_count": 21,
   "metadata": {
    "gradient": {
     "editing": false
    }
   },
   "outputs": [],
   "source": [
    "steps_per_epoch = 10"
   ]
  },
  {
   "cell_type": "code",
   "execution_count": 22,
   "metadata": {
    "gradient": {
     "editing": false
    }
   },
   "outputs": [],
   "source": [
    "# Weight Layers: 7 | Activation: Relu | Max Filter: 256 | Max FCN: 128\n",
    "feat_extract = models.Sequential()\n",
    "feat_extract.add(layers.Conv2D(64, (3, 3), activation='relu', \n",
    "                        input_shape=(200, 200, 3)))\n",
    "feat_extract.add(layers.Conv2D(64, (3, 3), activation='relu'))\n",
    "feat_extract.add(layers.MaxPooling2D((2, 2)))\n",
    "feat_extract.add(layers.Conv2D(128, (3, 3), activation='relu'))\n",
    "feat_extract.add(layers.Conv2D(128, (3, 3), activation='relu'))\n",
    "feat_extract.add(layers.MaxPooling2D((2, 2)))\n",
    "feat_extract.add(layers.Conv2D(256, (3, 3), activation='relu'))\n",
    "feat_extract.add(layers.Conv2D(256, (3, 3), activation='relu'))\n",
    "feat_extract.add(layers.MaxPooling2D((2, 2)))\n",
    "feat_extract.add(layers.Flatten())\n",
    "\n",
    "x = feat_extract.output\n",
    "x = layers.Dense(128, activation='relu')(x)\n",
    "x =layers.Dropout(0.2)(x)\n",
    "prediction_layer = layers.Dense(5, activation='softmax')(x)\n",
    "\n",
    "# Train CNN model\n",
    "vgg16 = Model(inputs=feat_extract.input, outputs=prediction_layer)\n",
    "vgg16.compile(loss='categorical_crossentropy', optimizer='rmsprop',\n",
    "              metrics=['CategoricalAccuracy'])\n",
    "\n",
    "history_vgg16 = vgg16.fit(train_generator, steps_per_epoch=steps_per_epoch,\n",
    "                          epochs=75, validation_data=valid_generator,\n",
    "                          validation_steps=2, verbose=0)"
   ]
  },
  {
   "cell_type": "code",
   "execution_count": 24,
   "metadata": {
    "gradient": {}
   },
   "outputs": [],
   "source": [
    "# Extract train features for SVM model\n",
    "for i in range(steps_per_epoch):\n",
    "    (X_sub, y_sub) = next(train_generator)\n",
    "    y_sub = np.argmax(y_sub, axis=1)\n",
    "    if i == 0:\n",
    "        X_train = X_sub.copy()\n",
    "        y_train = y_sub.copy()\n",
    "    else:\n",
    "        X_train = np.append(X_train, X_sub, axis=0)\n",
    "        y_train = np.append(y_train, y_sub, axis=0)\n",
    "X_ext_train = feat_extract.predict(X_train)\n",
    "\n",
    "# Extract validation features for CNN and SVM model\n",
    "for i in range(3):\n",
    "    (X_sub, y_sub) = next(valid_generator)\n",
    "    y_sub = np.argmax(y_sub, axis=1)\n",
    "    if i == 0:\n",
    "        X_val = X_sub.copy()\n",
    "        y_val = y_sub.copy()\n",
    "    else:\n",
    "        X_val = np.append(X_val, X_sub, axis=0)\n",
    "        y_val = np.append(y_val, y_sub, axis=0)\n",
    "X_ext_val = feat_extract.predict(X_val)\n",
    "\n",
    "# Extract test features for CNN and SVM model\n",
    "y_test = test_generator.classes\n",
    "for i in range(test_generator.samples):\n",
    "    (X_sub, _) = next(test_generator)\n",
    "    if i == 0:\n",
    "        X_test = X_sub.copy()\n",
    "    else:\n",
    "        X_test = np.append(X_test, X_sub, axis=0)\n",
    "X_ext_test = feat_extract.predict(X_test)"
   ]
  },
  {
   "cell_type": "code",
   "execution_count": 25,
   "metadata": {
    "gradient": {
     "editing": false
    }
   },
   "outputs": [
    {
     "data": {
      "text/plain": [
       "RandomForestClassifier(class_weight='balanced', criterion='entropy',\n",
       "                       max_features='log2', n_estimators=1000, n_jobs=-1)"
      ]
     },
     "execution_count": 25,
     "metadata": {},
     "output_type": "execute_result"
    }
   ],
   "source": [
    "# Train SVM (C: 10, gamma: 0.1, kernel: 'rbf') and RF model (criterion: entropy, max_features: log2)\n",
    "svm = SVC(class_weight='balanced', C=10, gamma=0.1, kernel='rbf', probability=True)\n",
    "svm.fit(X_ext_train, y_train)\n",
    "rfc = RandomForestClassifier(n_jobs=-1, \n",
    "                             class_weight='balanced', \n",
    "                             n_estimators=1000,\n",
    "                             criterion='entropy',\n",
    "                             max_features='log2')\n",
    "rfc.fit(X_ext_train, y_train)"
   ]
  },
  {
   "cell_type": "markdown",
   "metadata": {},
   "source": [
    "# 3. Evaluate the models using multiclass performance metrics"
   ]
  },
  {
   "cell_type": "code",
   "execution_count": 26,
   "metadata": {
    "gradient": {}
   },
   "outputs": [],
   "source": [
    "# Predict probability for test values\n",
    "y_test_rf_prob = rfc.predict_proba(X_ext_test)\n",
    "y_test_svm_prob = svm.predict_proba(X_ext_test)\n",
    "y_test_cnn_prob = vgg16.predict(X_test)\n",
    "\n",
    "# Get predictions\n",
    "y_test_rf = np.argmax(y_test_rf_prob, axis=1)\n",
    "y_test_svm = np.argmax(y_test_svm_prob, axis=1)\n",
    "y_test_cnn = np.argmax(y_test_cnn_prob, axis=1)"
   ]
  },
  {
   "cell_type": "code",
   "execution_count": 27,
   "metadata": {
    "gradient": {}
   },
   "outputs": [
    {
     "name": "stdout",
     "output_type": "stream",
     "text": [
      "Random Forest Classification Report\n",
      "               precision    recall  f1-score   support\n",
      "\n",
      "  dried_basil       0.20      0.13      0.16        15\n",
      "dried_oregano       0.14      0.13      0.14        15\n",
      "dried_parsley       0.60      0.40      0.48        15\n",
      "  dried_thyme       0.27      0.47      0.34        15\n",
      "    non_spice       0.60      0.60      0.60        15\n",
      "\n",
      "     accuracy                           0.35        75\n",
      "    macro avg       0.36      0.35      0.34        75\n",
      " weighted avg       0.36      0.35      0.34        75\n",
      "\n",
      "SVM Classification Report\n",
      "               precision    recall  f1-score   support\n",
      "\n",
      "  dried_basil       0.17      0.07      0.10        15\n",
      "dried_oregano       0.20      0.20      0.20        15\n",
      "dried_parsley       0.57      0.27      0.36        15\n",
      "  dried_thyme       0.24      0.27      0.25        15\n",
      "    non_spice       0.47      0.93      0.62        15\n",
      "\n",
      "     accuracy                           0.35        75\n",
      "    macro avg       0.33      0.35      0.31        75\n",
      " weighted avg       0.33      0.35      0.31        75\n",
      "\n",
      "CNN Classification Report\n",
      "               precision    recall  f1-score   support\n",
      "\n",
      "  dried_basil       0.18      0.13      0.15        15\n",
      "dried_oregano       0.36      0.33      0.34        15\n",
      "dried_parsley       0.55      0.73      0.63        15\n",
      "  dried_thyme       0.38      0.33      0.36        15\n",
      "    non_spice       0.71      0.80      0.75        15\n",
      "\n",
      "     accuracy                           0.47        75\n",
      "    macro avg       0.44      0.47      0.45        75\n",
      " weighted avg       0.44      0.47      0.45        75\n",
      "\n"
     ]
    }
   ],
   "source": [
    "# Display classification report (i.e., Precision, Recall, F1-score)\n",
    "c_labels = list(test_generator.class_indices.keys())\n",
    "print('Random Forest Classification Report')\n",
    "print(classification_report(y_test, y_test_rf,\n",
    "                               target_names=c_labels))\n",
    "print('SVM Classification Report')\n",
    "print(classification_report(y_test, y_test_svm,\n",
    "                               target_names=c_labels))\n",
    "print('CNN Classification Report')\n",
    "print(classification_report(y_test, y_test_cnn,\n",
    "                               target_names=c_labels))"
   ]
  },
  {
   "cell_type": "code",
   "execution_count": 28,
   "metadata": {
    "gradient": {}
   },
   "outputs": [],
   "source": [
    "# Calculate f1-scores\n",
    "f1_rf = np.mean(f1_score(y_test, y_test_rf, average=None))\n",
    "f1_svm = np.mean(f1_score(y_test, y_test_svm, average=None))\n",
    "f1_cnn = np.mean(f1_score(y_test, y_test_cnn, average=None))\n",
    "\n",
    "# Calculate Cohen's Kappa Score\n",
    "cohen_rf = cohen_kappa_score(y_test, y_test_rf)\n",
    "cohen_svm = cohen_kappa_score(y_test, y_test_svm)\n",
    "cohen_cnn = cohen_kappa_score(y_test, y_test_cnn)\n",
    "\n",
    "# Calculate Matthews Correlation Coefficient\n",
    "matthews_rf = matthews_corrcoef(y_test, y_test_rf)\n",
    "matthews_svm = matthews_corrcoef(y_test, y_test_svm)\n",
    "matthews_cnn = matthews_corrcoef(y_test, y_test_cnn)"
   ]
  },
  {
   "cell_type": "code",
   "execution_count": 29,
   "metadata": {
    "gradient": {}
   },
   "outputs": [
    {
     "data": {
      "image/png": "[encoded data removed]",
      "text/plain": [
       "<Figure size 576x396 with 2 Axes>"
      ]
     },
     "metadata": {},
     "output_type": "display_data"
    }
   ],
   "source": [
    "# Display all performance metrics\n",
    "performance_table = pd.DataFrame(\n",
    "    {'f1_score': [f1_rf, f1_svm, f1_cnn],\n",
    "    'cohens_kappa': [cohen_rf, cohen_svm, cohen_cnn],\n",
    "    'matthews_correlation': [matthews_rf, matthews_svm, matthews_cnn]},\n",
    "    index=['RF', 'SVM', 'CNN'])\n",
    "sns.heatmap(performance_table, cmap=\"Blues\", annot=True)\n",
    "plt.show()"
   ]
  },
  {
   "cell_type": "markdown",
   "metadata": {},
   "source": [
    "# 4. Combine different model predictions (Stacking)"
   ]
  },
  {
   "cell_type": "code",
   "execution_count": 30,
   "metadata": {
    "gradient": {}
   },
   "outputs": [],
   "source": [
    "# Calculate for equal voting power\n",
    "y_test_prob_equal = y_test_cnn_prob + y_test_rf_prob + y_test_svm_prob\n",
    "y_test_equal = np.argmax(y_test_prob_equal, axis=1)\n",
    "\n",
    "# Calculate with weighted voting power (i.e., CNN has twice as much power)\n",
    "y_test_prob_w = y_test_cnn_prob*2 + y_test_rf_prob + y_test_svm_prob\n",
    "y_test_w = np.argmax(y_test_prob_w, axis=1)"
   ]
  },
  {
   "cell_type": "code",
   "execution_count": 31,
   "metadata": {
    "gradient": {}
   },
   "outputs": [
    {
     "name": "stdout",
     "output_type": "stream",
     "text": [
      "Equal Voting Power\n",
      "               precision    recall  f1-score   support\n",
      "\n",
      "  dried_basil       0.25      0.07      0.11        15\n",
      "dried_oregano       0.14      0.13      0.14        15\n",
      "dried_parsley       0.53      0.53      0.53        15\n",
      "  dried_thyme       0.24      0.33      0.28        15\n",
      "    non_spice       0.62      0.87      0.72        15\n",
      "\n",
      "     accuracy                           0.39        75\n",
      "    macro avg       0.36      0.39      0.36        75\n",
      " weighted avg       0.36      0.39      0.36        75\n",
      "\n",
      "Weighted Voting Power (Double CNN)\n",
      "               precision    recall  f1-score   support\n",
      "\n",
      "  dried_basil       0.18      0.13      0.15        15\n",
      "dried_oregano       0.20      0.13      0.16        15\n",
      "dried_parsley       0.53      0.60      0.56        15\n",
      "  dried_thyme       0.28      0.33      0.30        15\n",
      "    non_spice       0.68      0.87      0.76        15\n",
      "\n",
      "     accuracy                           0.41        75\n",
      "    macro avg       0.37      0.41      0.39        75\n",
      " weighted avg       0.37      0.41      0.39        75\n",
      "\n"
     ]
    }
   ],
   "source": [
    "# Evaluate voting with same multiclass preformance metrics\n",
    "print('Equal Voting Power')\n",
    "print(classification_report(y_test, y_test_equal,\n",
    "                               target_names=c_labels))\n",
    "print('Weighted Voting Power (Double CNN)')\n",
    "print(classification_report(y_test, y_test_w,\n",
    "                               target_names=c_labels))\n",
    "\n",
    "# Calculate f1-scores\n",
    "f1_equal = np.mean(f1_score(y_test, y_test_equal, average=None))\n",
    "f1_w = np.mean(f1_score(y_test, y_test_w, average=None))\n",
    "\n",
    "cohen_equal = cohen_kappa_score(y_test, y_test_equal)\n",
    "cohen_w = cohen_kappa_score(y_test, y_test_w)\n",
    "\n",
    "# Calculate Matthews Correlation Coefficient\n",
    "matthews_equal = matthews_corrcoef(y_test, y_test_equal)\n",
    "matthews_w = matthews_corrcoef(y_test, y_test_w)"
   ]
  },
  {
   "cell_type": "code",
   "execution_count": 32,
   "metadata": {
    "gradient": {}
   },
   "outputs": [
    {
     "data": {
      "image/png": "[encoded data removed]",
      "text/plain": [
       "<Figure size 576x396 with 2 Axes>"
      ]
     },
     "metadata": {},
     "output_type": "display_data"
    }
   ],
   "source": [
    "# Display performance table with voting scores\n",
    "performance_table = pd.DataFrame(\n",
    "    {'f1_score': [f1_equal, f1_w],\n",
    "    'cohens_kappa': [cohen_equal, cohen_w],\n",
    "    'matthews_correlation': [matthews_equal, matthews_w]},\n",
    "    index=['Equal', 'Weighted (Double CNN)'])\n",
    "fig, ax = plt.subplots()\n",
    "sns.heatmap(performance_table, cmap=\"Blues\", annot=True, ax=ax)\n",
    "ax.set_yticklabels(performance_table.index, va='center')\n",
    "plt.show()"
   ]
  },
  {
   "cell_type": "markdown",
   "metadata": {},
   "source": [
    "# 5. Create Final Pipeline"
   ]
  },
  {
   "cell_type": "code",
   "execution_count": 42,
   "metadata": {},
   "outputs": [
    {
     "name": "stdout",
     "output_type": "stream",
     "text": [
      "Prediction: Dried Parsley\n"
     ]
    }
   ],
   "source": [
    "# Prepare raw input image for prediction by resizing and converting to array\n",
    "img = Image.open('./model_dataset/test/dried_basil/basil13.jpg')\n",
    "img = img.convert('RGB')\n",
    "resized_img = img.resize((200, 200))\n",
    "array_img = np.array(resized_img)\n",
    "array_img = np.expand_dims(array_img, axis=0)\n",
    "\n",
    "# Extract features, predict with the three models, and final ensemble prediction\n",
    "extracted_feat = feat_extract(array_img)\n",
    "rf_pred = rfc.predict_proba(extracted_feat)\n",
    "svm_pred = svm.predict_proba(extracted_feat)\n",
    "cnn_pred = vgg16.predict(array_img)\n",
    "pred = cnn_pred*2 + rf_pred + svm_pred\n",
    "\n",
    "# Convert number prediction to string\n",
    "class_labels = ['Dried Basil', 'Dried Oregano', 'Dried Parsley', 'Dried Thyme', 'Not a Spice']\n",
    "class_pred = class_labels[np.argmax(pred)]\n",
    "\n",
    "print(f'Prediction: {class_pred}')"
   ]
  },
  {
   "cell_type": "markdown",
   "metadata": {},
   "source": [
    "# 6. Save ML Models"
   ]
  },
  {
   "cell_type": "code",
   "execution_count": 38,
   "metadata": {
    "gradient": {}
   },
   "outputs": [],
   "source": [
    "# Pickle small models but save large models (i.e., cnn)\n",
    "pickle.dump(svm, open('svm_model.pkl', 'wb'))\n",
    "pickle.dump(rfc, open('rf_model.pkl', 'wb'))\n",
    "feat_extract.save('feat_extract.h5')\n",
    "vgg16.save('cnn_model.h5')"
   ]
  }
 ],
 "metadata": {
  "kernelspec": {
   "display_name": "Python 3",
   "language": "python",
   "name": "python3"
  },
  "language_info": {
   "codemirror_mode": {
    "name": "ipython",
    "version": 3
   },
   "file_extension": ".py",
   "mimetype": "text/x-python",
   "name": "python",
   "nbconvert_exporter": "python",
   "pygments_lexer": "ipython3",
   "version": "3.6.9"
  }
 },
 "nbformat": 4,
 "nbformat_minor": 2
}
