{
 "cells": [
  {
   "cell_type": "code",
   "execution_count": 1,
   "metadata": {},
   "outputs": [],
   "source": [
    "import os\n",
    "import glob"
   ]
  },
  {
   "cell_type": "code",
   "execution_count": 2,
   "metadata": {},
   "outputs": [],
   "source": [
    "def rename_files(folder, image_name):\n",
    "    \"\"\"Rename .jpg files in a folder to specified incremental names.\n",
    "\n",
    "    Args:\n",
    "        folder (str): name of folder that contains the .jpg files\n",
    "        image_name (str): new name for the files in the folder\n",
    "\n",
    "    Returns:\n",
    "        None\n",
    "    \"\"\"\n",
    "    renamed = [path for path in glob.glob('./dataset/'+ folder + '/*.jpg')\\\n",
    "               if (image_name + '0') in path]\n",
    "    if renamed:\n",
    "        image_name = image_name + '_'\n",
    "    for count, cur_file_name in enumerate(os.listdir(\"./dataset/\" + folder)):\n",
    "        new_file_name = image_name + str(count) + \".jpg\"\n",
    "        src = \"./dataset/\" + folder + '/' + cur_file_name\n",
    "        dst = \"./dataset/\" + folder + '/' + new_file_name\n",
    "        os.rename(src, dst)"
   ]
  },
  {
   "cell_type": "code",
   "execution_count": 3,
   "metadata": {},
   "outputs": [],
   "source": [
    "rename_files('dried_basil', 'basil')\n",
    "rename_files('dried_oregano', 'oregano')\n",
    "rename_files('dried_thyme', 'thyme')\n",
    "rename_files('dried_parsley', 'parsley')\n",
    "rename_files('non_spice', 'non_spice')"
   ]
  }
 ],
 "metadata": {
  "kernelspec": {
   "display_name": "Python 3",
   "language": "python",
   "name": "python3"
  },
  "language_info": {
   "codemirror_mode": {
    "name": "ipython",
    "version": 3
   },
   "file_extension": ".py",
   "mimetype": "text/x-python",
   "name": "python",
   "nbconvert_exporter": "python",
   "pygments_lexer": "ipython3",
   "version": "3.6.9"
  }
 },
 "nbformat": 4,
 "nbformat_minor": 4
}
